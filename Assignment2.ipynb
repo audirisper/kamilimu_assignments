{
  "nbformat": 4,
  "nbformat_minor": 0,
  "metadata": {
    "colab": {
      "provenance": []
    },
    "kernelspec": {
      "name": "python3",
      "display_name": "Python 3"
    },
    "language_info": {
      "name": "python"
    }
  },
  "cells": [
    {
      "cell_type": "markdown",
      "source": [
        "Section 1\n",
        "\n",
        "1. The primary purpose for data manipulation is to enhance the quality and value of the data to prepare it ready for further analysis (by selecting, editing, cleaning and transforming data).\n",
        "\n",
        "2. - Numpy: Provides fast, memory-efficient arrays and supports vectorized operations, making it the foundation for numerical computing in Python.\n",
        "   - SciPy: Builds on NumPy and is majorly used for tasks like optimization, linear algebra, signal processing, statistics etc.\n",
        "   - PySpark: - A powerful distributed framework for processing big data across multiple nodes using Apache Spark.\n",
        "\n",
        "\n",
        "\n",
        "3. Limitations of Python Lists:\n",
        "\n",
        "- Inefficient for Large-Scale Numerical Operations:Lists are not optimized for numerical data processing.Operations like addition or multiplication must be done with loops or list comprehensions.\n",
        "- No Element-wise Operations: list1 + list2 concatenates, not adds elements.\n",
        "- Slower Execution:Lists are interpreted and operate in pure Python, making them slower for math-heavy tasks.\n",
        "- Lack of Multi-dimensional Structure:No built-in support for 2D or higher-dimensional arrays.\n",
        "- Higher Memory Usage:Lists are not memory-efficient due to their dynamic and flexible data types.\n",
        "\n",
        "4. Python Lists: Concatenation- When you add two Python lists using `+`, it concatenates them:\n",
        "\n",
        "```python\n",
        "[1, 2, 3] + [1, 2, 3]\n",
        "# Output: [1, 2, 3, 1, 2, 3]\n",
        "```\n",
        " - It joins the two lists end-to-end.No mathematical addition happens element-by-element.\n",
        "\n",
        "   NumPy Arrays: Element-wise Addition\n",
        "\n",
        "   When you add two NumPy arrays using `+`, it performs element-wise addition:\n",
        "\n",
        "```python\n",
        "import numpy as np\n",
        "np.array([1, 2, 3]) + np.array([1, 2, 3])\n",
        "# Output: [2 4 6]\n",
        "```\n",
        "5. An ndarray (N-dimensional array) is the powerful data structure provided by NumPy, designed specifically for numerical computations.A supercharged list that is:\n",
        "  - Much faster.\n",
        "  - More memory-efficient.\n",
        "  - Tailor-made for numerical computations.\n",
        "\n",
        "6. - Speed & Efficiency: NumPy arrays are much faster for numerical computations.\n",
        "   - Memory Efficiency: Arrays use less memory compared to lists.\n",
        "   - Vectorized Operations: No need for loops, allowing faster computations.\n",
        "   - Advanced Operations: Supports slicing, broadcasting, matrix algebra, etc.\n",
        "   - Multi-Dimensional Support: Works seamlessly with multi-dimensional data (2D matrices, images).\n",
        "\n",
        "7. - Series: A one-dimensional labeled array that works like a column in a spreadsheet. eg pd.Series([10, 20, 30], index=['a', 'b', 'c'])\n",
        "   - DataFrame: A two-dimensional labeled table with columns and indexed rows. eg: pd.DataFrame({'Name': ['Alice', 'Bob'], 'Age': [25, 30]})\n",
        "\n",
        "8. Pandas vs. NumPy for Tabular Data\n",
        "   - NumPy is excellent for handling numerical arrays but lacks built-in tabular functionality.\n",
        "   - Pandas introduces indexing, labeling, filtering, grouping, and missing data handling, making it more convenient for structured datasets.\n",
        "\n",
        "9. Two Ways to Access a Specific Column in a Pandas DataFrame\n",
        "   - Bracket Notation (df['column_name'])\n",
        "   df = pd.DataFrame({'A': [1, 2, 3], 'B': [4, 5, 6]})\n",
        "   print(df['A'])  # Access column A.\n",
        "   - Dot Notation (df.column_name)\n",
        "   print(df.A)  # Works when column names don't have spaces/special characters.\n",
        "\n",
        "10. df.isnull().sum()\n",
        "    - This function checks for missing values in each column of a DataFrame and returns the count.\n",
        "    - Importance in Data Cleaning: Helps detect incomplete datasets, aiding in decisions like dropping or imputing missing values.\n",
        "    \n",
        "\n",
        "\n",
        "\n",
        "\n",
        "\n",
        "\n",
        "\n",
        "\n",
        "\n",
        "\n",
        "\n"
      ],
      "metadata": {
        "id": "q0qdRWXEbuFH"
      }
    },
    {
      "cell_type": "markdown",
      "source": [
        "SECTION 2"
      ],
      "metadata": {
        "id": "5dWHrzxiAzNi"
      }
    },
    {
      "cell_type": "code",
      "source": [
        "# Load Datasets\n",
        "import pandas as pd\n",
        "\n",
        "# Read CSV file into DataFrame\n",
        "df = pd.read_csv(\"https://raw.githubusercontent.com/justmarkham/DAT8/master/data/chipotle.tsv\", sep='\\t')"
      ],
      "metadata": {
        "id": "LljiOQqOs1zn"
      },
      "execution_count": 1,
      "outputs": []
    },
    {
      "cell_type": "code",
      "source": [
        "# Quick look at the last 7 entries (helps in identifying data patterns or issues at the bottom)\n",
        "df.tail(7)"
      ],
      "metadata": {
        "colab": {
          "base_uri": "https://localhost:8080/",
          "height": 269
        },
        "id": "9YhaKKeQtJfF",
        "outputId": "714979a5-5003-40fa-c019-75d230c160b0"
      },
      "execution_count": null,
      "outputs": [
        {
          "output_type": "execute_result",
          "data": {
            "text/plain": [
              "      order_id  quantity            item_name  \\\n",
              "4615      1832         1   Chicken Soft Tacos   \n",
              "4616      1832         1  Chips and Guacamole   \n",
              "4617      1833         1        Steak Burrito   \n",
              "4618      1833         1        Steak Burrito   \n",
              "4619      1834         1   Chicken Salad Bowl   \n",
              "4620      1834         1   Chicken Salad Bowl   \n",
              "4621      1834         1   Chicken Salad Bowl   \n",
              "\n",
              "                                     choice_description item_price  \n",
              "4615   [Fresh Tomato Salsa, [Rice, Cheese, Sour Cream]]     $8.75   \n",
              "4616                                                NaN     $4.45   \n",
              "4617  [Fresh Tomato Salsa, [Rice, Black Beans, Sour ...    $11.75   \n",
              "4618  [Fresh Tomato Salsa, [Rice, Sour Cream, Cheese...    $11.75   \n",
              "4619  [Fresh Tomato Salsa, [Fajita Vegetables, Pinto...    $11.25   \n",
              "4620  [Fresh Tomato Salsa, [Fajita Vegetables, Lettu...     $8.75   \n",
              "4621  [Fresh Tomato Salsa, [Fajita Vegetables, Pinto...     $8.75   "
            ],
            "text/html": [
              "\n",
              "  <div id=\"df-a82a045d-5f7b-432a-8176-9b044a6c6d2f\" class=\"colab-df-container\">\n",
              "    <div>\n",
              "<style scoped>\n",
              "    .dataframe tbody tr th:only-of-type {\n",
              "        vertical-align: middle;\n",
              "    }\n",
              "\n",
              "    .dataframe tbody tr th {\n",
              "        vertical-align: top;\n",
              "    }\n",
              "\n",
              "    .dataframe thead th {\n",
              "        text-align: right;\n",
              "    }\n",
              "</style>\n",
              "<table border=\"1\" class=\"dataframe\">\n",
              "  <thead>\n",
              "    <tr style=\"text-align: right;\">\n",
              "      <th></th>\n",
              "      <th>order_id</th>\n",
              "      <th>quantity</th>\n",
              "      <th>item_name</th>\n",
              "      <th>choice_description</th>\n",
              "      <th>item_price</th>\n",
              "    </tr>\n",
              "  </thead>\n",
              "  <tbody>\n",
              "    <tr>\n",
              "      <th>4615</th>\n",
              "      <td>1832</td>\n",
              "      <td>1</td>\n",
              "      <td>Chicken Soft Tacos</td>\n",
              "      <td>[Fresh Tomato Salsa, [Rice, Cheese, Sour Cream]]</td>\n",
              "      <td>$8.75</td>\n",
              "    </tr>\n",
              "    <tr>\n",
              "      <th>4616</th>\n",
              "      <td>1832</td>\n",
              "      <td>1</td>\n",
              "      <td>Chips and Guacamole</td>\n",
              "      <td>NaN</td>\n",
              "      <td>$4.45</td>\n",
              "    </tr>\n",
              "    <tr>\n",
              "      <th>4617</th>\n",
              "      <td>1833</td>\n",
              "      <td>1</td>\n",
              "      <td>Steak Burrito</td>\n",
              "      <td>[Fresh Tomato Salsa, [Rice, Black Beans, Sour ...</td>\n",
              "      <td>$11.75</td>\n",
              "    </tr>\n",
              "    <tr>\n",
              "      <th>4618</th>\n",
              "      <td>1833</td>\n",
              "      <td>1</td>\n",
              "      <td>Steak Burrito</td>\n",
              "      <td>[Fresh Tomato Salsa, [Rice, Sour Cream, Cheese...</td>\n",
              "      <td>$11.75</td>\n",
              "    </tr>\n",
              "    <tr>\n",
              "      <th>4619</th>\n",
              "      <td>1834</td>\n",
              "      <td>1</td>\n",
              "      <td>Chicken Salad Bowl</td>\n",
              "      <td>[Fresh Tomato Salsa, [Fajita Vegetables, Pinto...</td>\n",
              "      <td>$11.25</td>\n",
              "    </tr>\n",
              "    <tr>\n",
              "      <th>4620</th>\n",
              "      <td>1834</td>\n",
              "      <td>1</td>\n",
              "      <td>Chicken Salad Bowl</td>\n",
              "      <td>[Fresh Tomato Salsa, [Fajita Vegetables, Lettu...</td>\n",
              "      <td>$8.75</td>\n",
              "    </tr>\n",
              "    <tr>\n",
              "      <th>4621</th>\n",
              "      <td>1834</td>\n",
              "      <td>1</td>\n",
              "      <td>Chicken Salad Bowl</td>\n",
              "      <td>[Fresh Tomato Salsa, [Fajita Vegetables, Pinto...</td>\n",
              "      <td>$8.75</td>\n",
              "    </tr>\n",
              "  </tbody>\n",
              "</table>\n",
              "</div>\n",
              "    <div class=\"colab-df-buttons\">\n",
              "\n",
              "  <div class=\"colab-df-container\">\n",
              "    <button class=\"colab-df-convert\" onclick=\"convertToInteractive('df-a82a045d-5f7b-432a-8176-9b044a6c6d2f')\"\n",
              "            title=\"Convert this dataframe to an interactive table.\"\n",
              "            style=\"display:none;\">\n",
              "\n",
              "  <svg xmlns=\"http://www.w3.org/2000/svg\" height=\"24px\" viewBox=\"0 -960 960 960\">\n",
              "    <path d=\"M120-120v-720h720v720H120Zm60-500h600v-160H180v160Zm220 220h160v-160H400v160Zm0 220h160v-160H400v160ZM180-400h160v-160H180v160Zm440 0h160v-160H620v160ZM180-180h160v-160H180v160Zm440 0h160v-160H620v160Z\"/>\n",
              "  </svg>\n",
              "    </button>\n",
              "\n",
              "  <style>\n",
              "    .colab-df-container {\n",
              "      display:flex;\n",
              "      gap: 12px;\n",
              "    }\n",
              "\n",
              "    .colab-df-convert {\n",
              "      background-color: #E8F0FE;\n",
              "      border: none;\n",
              "      border-radius: 50%;\n",
              "      cursor: pointer;\n",
              "      display: none;\n",
              "      fill: #1967D2;\n",
              "      height: 32px;\n",
              "      padding: 0 0 0 0;\n",
              "      width: 32px;\n",
              "    }\n",
              "\n",
              "    .colab-df-convert:hover {\n",
              "      background-color: #E2EBFA;\n",
              "      box-shadow: 0px 1px 2px rgba(60, 64, 67, 0.3), 0px 1px 3px 1px rgba(60, 64, 67, 0.15);\n",
              "      fill: #174EA6;\n",
              "    }\n",
              "\n",
              "    .colab-df-buttons div {\n",
              "      margin-bottom: 4px;\n",
              "    }\n",
              "\n",
              "    [theme=dark] .colab-df-convert {\n",
              "      background-color: #3B4455;\n",
              "      fill: #D2E3FC;\n",
              "    }\n",
              "\n",
              "    [theme=dark] .colab-df-convert:hover {\n",
              "      background-color: #434B5C;\n",
              "      box-shadow: 0px 1px 3px 1px rgba(0, 0, 0, 0.15);\n",
              "      filter: drop-shadow(0px 1px 2px rgba(0, 0, 0, 0.3));\n",
              "      fill: #FFFFFF;\n",
              "    }\n",
              "  </style>\n",
              "\n",
              "    <script>\n",
              "      const buttonEl =\n",
              "        document.querySelector('#df-a82a045d-5f7b-432a-8176-9b044a6c6d2f button.colab-df-convert');\n",
              "      buttonEl.style.display =\n",
              "        google.colab.kernel.accessAllowed ? 'block' : 'none';\n",
              "\n",
              "      async function convertToInteractive(key) {\n",
              "        const element = document.querySelector('#df-a82a045d-5f7b-432a-8176-9b044a6c6d2f');\n",
              "        const dataTable =\n",
              "          await google.colab.kernel.invokeFunction('convertToInteractive',\n",
              "                                                    [key], {});\n",
              "        if (!dataTable) return;\n",
              "\n",
              "        const docLinkHtml = 'Like what you see? Visit the ' +\n",
              "          '<a target=\"_blank\" href=https://colab.research.google.com/notebooks/data_table.ipynb>data table notebook</a>'\n",
              "          + ' to learn more about interactive tables.';\n",
              "        element.innerHTML = '';\n",
              "        dataTable['output_type'] = 'display_data';\n",
              "        await google.colab.output.renderOutput(dataTable, element);\n",
              "        const docLink = document.createElement('div');\n",
              "        docLink.innerHTML = docLinkHtml;\n",
              "        element.appendChild(docLink);\n",
              "      }\n",
              "    </script>\n",
              "  </div>\n",
              "\n",
              "\n",
              "    <div id=\"df-69d638b7-b532-485c-acb1-381e53f385c6\">\n",
              "      <button class=\"colab-df-quickchart\" onclick=\"quickchart('df-69d638b7-b532-485c-acb1-381e53f385c6')\"\n",
              "                title=\"Suggest charts\"\n",
              "                style=\"display:none;\">\n",
              "\n",
              "<svg xmlns=\"http://www.w3.org/2000/svg\" height=\"24px\"viewBox=\"0 0 24 24\"\n",
              "     width=\"24px\">\n",
              "    <g>\n",
              "        <path d=\"M19 3H5c-1.1 0-2 .9-2 2v14c0 1.1.9 2 2 2h14c1.1 0 2-.9 2-2V5c0-1.1-.9-2-2-2zM9 17H7v-7h2v7zm4 0h-2V7h2v10zm4 0h-2v-4h2v4z\"/>\n",
              "    </g>\n",
              "</svg>\n",
              "      </button>\n",
              "\n",
              "<style>\n",
              "  .colab-df-quickchart {\n",
              "      --bg-color: #E8F0FE;\n",
              "      --fill-color: #1967D2;\n",
              "      --hover-bg-color: #E2EBFA;\n",
              "      --hover-fill-color: #174EA6;\n",
              "      --disabled-fill-color: #AAA;\n",
              "      --disabled-bg-color: #DDD;\n",
              "  }\n",
              "\n",
              "  [theme=dark] .colab-df-quickchart {\n",
              "      --bg-color: #3B4455;\n",
              "      --fill-color: #D2E3FC;\n",
              "      --hover-bg-color: #434B5C;\n",
              "      --hover-fill-color: #FFFFFF;\n",
              "      --disabled-bg-color: #3B4455;\n",
              "      --disabled-fill-color: #666;\n",
              "  }\n",
              "\n",
              "  .colab-df-quickchart {\n",
              "    background-color: var(--bg-color);\n",
              "    border: none;\n",
              "    border-radius: 50%;\n",
              "    cursor: pointer;\n",
              "    display: none;\n",
              "    fill: var(--fill-color);\n",
              "    height: 32px;\n",
              "    padding: 0;\n",
              "    width: 32px;\n",
              "  }\n",
              "\n",
              "  .colab-df-quickchart:hover {\n",
              "    background-color: var(--hover-bg-color);\n",
              "    box-shadow: 0 1px 2px rgba(60, 64, 67, 0.3), 0 1px 3px 1px rgba(60, 64, 67, 0.15);\n",
              "    fill: var(--button-hover-fill-color);\n",
              "  }\n",
              "\n",
              "  .colab-df-quickchart-complete:disabled,\n",
              "  .colab-df-quickchart-complete:disabled:hover {\n",
              "    background-color: var(--disabled-bg-color);\n",
              "    fill: var(--disabled-fill-color);\n",
              "    box-shadow: none;\n",
              "  }\n",
              "\n",
              "  .colab-df-spinner {\n",
              "    border: 2px solid var(--fill-color);\n",
              "    border-color: transparent;\n",
              "    border-bottom-color: var(--fill-color);\n",
              "    animation:\n",
              "      spin 1s steps(1) infinite;\n",
              "  }\n",
              "\n",
              "  @keyframes spin {\n",
              "    0% {\n",
              "      border-color: transparent;\n",
              "      border-bottom-color: var(--fill-color);\n",
              "      border-left-color: var(--fill-color);\n",
              "    }\n",
              "    20% {\n",
              "      border-color: transparent;\n",
              "      border-left-color: var(--fill-color);\n",
              "      border-top-color: var(--fill-color);\n",
              "    }\n",
              "    30% {\n",
              "      border-color: transparent;\n",
              "      border-left-color: var(--fill-color);\n",
              "      border-top-color: var(--fill-color);\n",
              "      border-right-color: var(--fill-color);\n",
              "    }\n",
              "    40% {\n",
              "      border-color: transparent;\n",
              "      border-right-color: var(--fill-color);\n",
              "      border-top-color: var(--fill-color);\n",
              "    }\n",
              "    60% {\n",
              "      border-color: transparent;\n",
              "      border-right-color: var(--fill-color);\n",
              "    }\n",
              "    80% {\n",
              "      border-color: transparent;\n",
              "      border-right-color: var(--fill-color);\n",
              "      border-bottom-color: var(--fill-color);\n",
              "    }\n",
              "    90% {\n",
              "      border-color: transparent;\n",
              "      border-bottom-color: var(--fill-color);\n",
              "    }\n",
              "  }\n",
              "</style>\n",
              "\n",
              "      <script>\n",
              "        async function quickchart(key) {\n",
              "          const quickchartButtonEl =\n",
              "            document.querySelector('#' + key + ' button');\n",
              "          quickchartButtonEl.disabled = true;  // To prevent multiple clicks.\n",
              "          quickchartButtonEl.classList.add('colab-df-spinner');\n",
              "          try {\n",
              "            const charts = await google.colab.kernel.invokeFunction(\n",
              "                'suggestCharts', [key], {});\n",
              "          } catch (error) {\n",
              "            console.error('Error during call to suggestCharts:', error);\n",
              "          }\n",
              "          quickchartButtonEl.classList.remove('colab-df-spinner');\n",
              "          quickchartButtonEl.classList.add('colab-df-quickchart-complete');\n",
              "        }\n",
              "        (() => {\n",
              "          let quickchartButtonEl =\n",
              "            document.querySelector('#df-69d638b7-b532-485c-acb1-381e53f385c6 button');\n",
              "          quickchartButtonEl.style.display =\n",
              "            google.colab.kernel.accessAllowed ? 'block' : 'none';\n",
              "        })();\n",
              "      </script>\n",
              "    </div>\n",
              "\n",
              "    </div>\n",
              "  </div>\n"
            ],
            "application/vnd.google.colaboratory.intrinsic+json": {
              "type": "dataframe",
              "summary": "{\n  \"name\": \"df\",\n  \"rows\": 7,\n  \"fields\": [\n    {\n      \"column\": \"order_id\",\n      \"properties\": {\n        \"dtype\": \"number\",\n        \"std\": 0,\n        \"min\": 1832,\n        \"max\": 1834,\n        \"num_unique_values\": 3,\n        \"samples\": [\n          1832,\n          1833,\n          1834\n        ],\n        \"semantic_type\": \"\",\n        \"description\": \"\"\n      }\n    },\n    {\n      \"column\": \"quantity\",\n      \"properties\": {\n        \"dtype\": \"number\",\n        \"std\": 0,\n        \"min\": 1,\n        \"max\": 1,\n        \"num_unique_values\": 1,\n        \"samples\": [\n          1\n        ],\n        \"semantic_type\": \"\",\n        \"description\": \"\"\n      }\n    },\n    {\n      \"column\": \"item_name\",\n      \"properties\": {\n        \"dtype\": \"string\",\n        \"num_unique_values\": 4,\n        \"samples\": [\n          \"Chips and Guacamole\"\n        ],\n        \"semantic_type\": \"\",\n        \"description\": \"\"\n      }\n    },\n    {\n      \"column\": \"choice_description\",\n      \"properties\": {\n        \"dtype\": \"string\",\n        \"num_unique_values\": 6,\n        \"samples\": [\n          \"[Fresh Tomato Salsa, [Rice, Cheese, Sour Cream]]\"\n        ],\n        \"semantic_type\": \"\",\n        \"description\": \"\"\n      }\n    },\n    {\n      \"column\": \"item_price\",\n      \"properties\": {\n        \"dtype\": \"string\",\n        \"num_unique_values\": 4,\n        \"samples\": [\n          \"$4.45 \"\n        ],\n        \"semantic_type\": \"\",\n        \"description\": \"\"\n      }\n    }\n  ]\n}"
            }
          },
          "metadata": {},
          "execution_count": 2
        }
      ]
    },
    {
      "cell_type": "code",
      "source": [
        "# Prints DataFrame summary\n",
        "df.info()\n"
      ],
      "metadata": {
        "colab": {
          "base_uri": "https://localhost:8080/"
        },
        "id": "IwLrf7vsvL3W",
        "outputId": "707d8489-1d38-4b7c-d1bf-d49573b39ac0"
      },
      "execution_count": null,
      "outputs": [
        {
          "output_type": "stream",
          "name": "stdout",
          "text": [
            "<class 'pandas.core.frame.DataFrame'>\n",
            "RangeIndex: 4622 entries, 0 to 4621\n",
            "Data columns (total 5 columns):\n",
            " #   Column              Non-Null Count  Dtype \n",
            "---  ------              --------------  ----- \n",
            " 0   order_id            4622 non-null   int64 \n",
            " 1   quantity            4622 non-null   int64 \n",
            " 2   item_name           4622 non-null   object\n",
            " 3   choice_description  3376 non-null   object\n",
            " 4   item_price          4622 non-null   object\n",
            "dtypes: int64(2), object(3)\n",
            "memory usage: 180.7+ KB\n"
          ]
        }
      ]
    },
    {
      "cell_type": "markdown",
      "source": [
        "- All columns except choice_description have complete data ,meaning no missing values.\n",
        "- Choice_description has only 3376 non-null values → 1246 entries are missing.\n",
        "- order_id and quantity are correctly stored as integers (int64).\n",
        "- Memory usage is low here, but still useful to track for larger dataset"
      ],
      "metadata": {
        "id": "LlvWy32PwLv4"
      }
    },
    {
      "cell_type": "code",
      "source": [
        "# Counts the number of missing values in the 'item_price' column\n",
        "df['item_price'].isnull().sum()"
      ],
      "metadata": {
        "colab": {
          "base_uri": "https://localhost:8080/"
        },
        "id": "uIeHSAX4xNUa",
        "outputId": "0326b810-b2b5-4f3b-e552-5fab44e5690a"
      },
      "execution_count": null,
      "outputs": [
        {
          "output_type": "execute_result",
          "data": {
            "text/plain": [
              "np.int64(0)"
            ]
          },
          "metadata": {},
          "execution_count": 9
        }
      ]
    },
    {
      "cell_type": "code",
      "source": [
        "# Prints the names of all columns in the DataFrame.\n",
        "df.columns"
      ],
      "metadata": {
        "colab": {
          "base_uri": "https://localhost:8080/"
        },
        "id": "DsA81jh0CiTP",
        "outputId": "1d95f102-4abd-4aec-d9be-a14bfd226c90"
      },
      "execution_count": null,
      "outputs": [
        {
          "output_type": "execute_result",
          "data": {
            "text/plain": [
              "Index(['order_id', 'quantity', 'item_name', 'choice_description', 'item_price',\n",
              "       'total_price'],\n",
              "      dtype='object')"
            ]
          },
          "metadata": {},
          "execution_count": 10
        }
      ]
    },
    {
      "cell_type": "code",
      "source": [
        "# Count how many times each item_name appears\n",
        "df['item_name'].value_counts().idxmax()"
      ],
      "metadata": {
        "colab": {
          "base_uri": "https://localhost:8080/",
          "height": 35
        },
        "id": "uQ5JJC1kyg-l",
        "outputId": "3a04523d-e818-4053-f49d-81da0b14f734"
      },
      "execution_count": null,
      "outputs": [
        {
          "output_type": "execute_result",
          "data": {
            "text/plain": [
              "'Chicken Bowl'"
            ],
            "application/vnd.google.colaboratory.intrinsic+json": {
              "type": "string"
            }
          },
          "metadata": {},
          "execution_count": 8
        }
      ]
    },
    {
      "cell_type": "code",
      "source": [
        "# Counts how many unique item names are in the database\n",
        "df['item_name'].nunique()\n"
      ],
      "metadata": {
        "colab": {
          "base_uri": "https://localhost:8080/"
        },
        "id": "EPnfIFZqRoCM",
        "outputId": "d78bd6fd-1c47-4e92-e362-83ae36509f5a"
      },
      "execution_count": null,
      "outputs": [
        {
          "output_type": "execute_result",
          "data": {
            "text/plain": [
              "50"
            ]
          },
          "metadata": {},
          "execution_count": 9
        }
      ]
    },
    {
      "cell_type": "code",
      "source": [
        "# Filters the dataset for only 'Chicken Bowl' items\n",
        "df_chicken = df[df['item_name'] == 'Chicken Bowl']"
      ],
      "metadata": {
        "id": "yZv16em7SzMV"
      },
      "execution_count": 2,
      "outputs": []
    },
    {
      "cell_type": "code",
      "source": [
        "# Removes the dollar sign from 'item_price' and convert it to float\n",
        "# Ensures all values in 'item_price' are strings before replacing\n",
        "df['item_price'] = df['item_price'].astype(str).str.replace('$', '', regex=False).astype(float)"
      ],
      "metadata": {
        "id": "sUfGkL1QUMum"
      },
      "execution_count": null,
      "outputs": []
    },
    {
      "cell_type": "code",
      "source": [
        "# Calculates the average item price\n",
        "df['item_price'].mean()"
      ],
      "metadata": {
        "colab": {
          "base_uri": "https://localhost:8080/"
        },
        "id": "QGui7_ep_BN3",
        "outputId": "18d84f5c-2bd5-4c17-dbee-f62550d632b1"
      },
      "execution_count": null,
      "outputs": [
        {
          "output_type": "execute_result",
          "data": {
            "text/plain": [
              "np.float64(7.464335785374297)"
            ]
          },
          "metadata": {},
          "execution_count": 4
        }
      ]
    },
    {
      "cell_type": "code",
      "source": [
        "# Counts the number of unique orders using 'order_id'\n",
        "df['order_id'].nunique()"
      ],
      "metadata": {
        "colab": {
          "base_uri": "https://localhost:8080/"
        },
        "id": "XIleSc5L_M6i",
        "outputId": "0809ede7-f56f-4e95-c696-1b4128954b70"
      },
      "execution_count": null,
      "outputs": [
        {
          "output_type": "execute_result",
          "data": {
            "text/plain": [
              "1834"
            ]
          },
          "metadata": {},
          "execution_count": 5
        }
      ]
    },
    {
      "cell_type": "markdown",
      "source": [
        "SECTION 3"
      ],
      "metadata": {
        "id": "XhQHIr4v_c3G"
      }
    },
    {
      "cell_type": "code",
      "source": [
        "# Total revenue = sum of quantity × item_price\n",
        "df['total_price'] = df['quantity'] * df['item_price']\n",
        "df['total_price'].sum()\n"
      ],
      "metadata": {
        "colab": {
          "base_uri": "https://localhost:8080/"
        },
        "id": "n1PcWzqP_es9",
        "outputId": "b2d3bbd2-3895-4dde-f705-d0d79b894eef"
      },
      "execution_count": null,
      "outputs": [
        {
          "output_type": "execute_result",
          "data": {
            "text/plain": [
              "np.float64(39237.02)"
            ]
          },
          "metadata": {},
          "execution_count": 7
        }
      ]
    },
    {
      "cell_type": "code",
      "source": [
        "from pyspark.sql import SparkSession\n",
        "from pyspark.sql.functions import col, regexp_replace, sum\n",
        "\n",
        "# Start Spark session\n",
        "spark = SparkSession.builder.appName(\"ChipotleSales\").getOrCreate()\n",
        "\n",
        "# Convert pandas DataFrame to PySpark DataFrame\n",
        "chipotle_spark_df = spark.createDataFrame(df)\n",
        "\n",
        "# Clean item_price: remove '$' and convert to float\n",
        "chipotle_spark_df = chipotle_spark_df.withColumn(\n",
        "    \"item_price\",\n",
        "    regexp_replace(col(\"item_price\").cast(\"string\"), \"\\$\", \"\").cast(\"float\")\n",
        ")\n",
        "\n",
        "# Calculate line_item_total = quantity * item_price\n",
        "chipotle_spark_df = chipotle_spark_df.withColumn(\n",
        "    \"line_item_total\",\n",
        "    col(\"quantity\") * col(\"item_price\")\n",
        ")\n",
        "\n",
        "# Group by item_name, sum total sales, and sort descending\n",
        "sales_per_item = chipotle_spark_df.groupBy(\"item_name\") \\\n",
        "    .agg(sum(\"line_item_total\").alias(\"total_sales\")) \\\n",
        "    .orderBy(col(\"total_sales\").desc())\n",
        "\n",
        "# Show top 5 items by total sales\n",
        "sales_per_item.show(5)\n",
        "\n"
      ],
      "metadata": {
        "colab": {
          "base_uri": "https://localhost:8080/"
        },
        "id": "Is4ZXOyi_o7w",
        "outputId": "6e17229a-a21c-46a7-d2b8-4b1e0eeb19ae"
      },
      "execution_count": null,
      "outputs": [
        {
          "output_type": "stream",
          "name": "stdout",
          "text": [
            "+-------------------+------------------+\n",
            "|          item_name|       total_sales|\n",
            "+-------------------+------------------+\n",
            "|       Chicken Bowl| 8044.629925727844|\n",
            "|    Chicken Burrito| 6387.059944152832|\n",
            "|      Steak Burrito| 4236.129955291748|\n",
            "|         Steak Bowl|2479.8099822998047|\n",
            "|Chips and Guacamole|2475.6199197769165|\n",
            "+-------------------+------------------+\n",
            "only showing top 5 rows\n",
            "\n"
          ]
        }
      ]
    },
    {
      "cell_type": "code",
      "source": [],
      "metadata": {
        "id": "0Iw7thCBZQ0S"
      },
      "execution_count": null,
      "outputs": []
    }
  ]
}