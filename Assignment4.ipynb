{
  "nbformat": 4,
  "nbformat_minor": 0,
  "metadata": {
    "colab": {
      "provenance": [],
      "authorship_tag": "ABX9TyMXZlZwOEgxRz8y7UsWSWBg",
      "include_colab_link": true
    },
    "kernelspec": {
      "name": "python3",
      "display_name": "Python 3"
    },
    "language_info": {
      "name": "python"
    }
  },
  "cells": [
    {
      "cell_type": "markdown",
      "metadata": {
        "id": "view-in-github",
        "colab_type": "text"
      },
      "source": [
        "<a href=\"https://colab.research.google.com/github/audirisper/kamilimu_assignments/blob/Risper_statistical_analysis/Assignment4.ipynb\" target=\"_parent\"><img src=\"https://colab.research.google.com/assets/colab-badge.svg\" alt=\"Open In Colab\"/></a>"
      ]
    },
    {
      "cell_type": "markdown",
      "source": [
        "SECTION 1"
      ],
      "metadata": {
        "id": "62Mwf6JVRezD"
      }
    },
    {
      "cell_type": "markdown",
      "source": [
        "1. a) Sample- A sample is asubset of individuals or observations selected  from a larger group or population. It is used to make inferences about the popuation.\n",
        "\n",
        "   b) Population- A population is the entire group of individuals or observations that a researcher is interested in studying or drawing conclusions about.\n",
        "\n",
        "2. A confidence interval provides a range of values that is likely to contain the true population parameter (such as a mean or proportion) with a specified level of confidence (95%). It reflects the degree of uncertainty around the estimate.\n",
        "\n",
        "3. A hypothesis is a specific, testable statement or assumption about a population parameter. It is a prediction or assumption that is tested using statistical methods.\n",
        "\n",
        "4. a) Null hypothesis- the statement we are trying to disprove.\n",
        "A statement of no effect, no change, or no difference: the difference is not statistically significant.\n",
        "Example: There is no difference between group A and group B.\n",
        "\n",
        "   b) Alternative hypothesis- he statement we accept if we find sufficient evidence to disprove the null hypothesis.It proposes that there is a significant effect, change or difference.\n",
        "   Example:There is a difference between group A and group B.\n",
        "\n",
        "5. Hypothesis testing is a statistical method used to make decisions about population parameters based on sample data. We test the null hypothesis (H₀) to determine whether there is enough evidence to reject it in favor of the alternative hypothesis.\n",
        "\n",
        "6.  Steps in Hypothesis testing:\n",
        "\n",
        "  - State the null and alternative hypotheses.\n",
        "  - Choose a significance level (α), e.g., 0.05.\n",
        "  - Select the appropriate statistical test based on data type and    distribution.\n",
        "  - Calculate the test statistic and p-value.\n",
        "  - Compare the p-value to α:\n",
        "     If p ≤ α, reject H₀.\n",
        "     If p > α, fail to reject H₀.\n",
        "  - Draw a conclusion based on the result.\n",
        "\n",
        "7. Alpha (α) is the significance level, which is the probability of rejecting the null hypothesis when it is actually true. It represents the tolerance for Type I error. Common values are 0.05 or 0.01.\n",
        "\n",
        "8. If p-value ≤ α, the null hypothesis is rejected (statistically significant result).\n",
        "   \n",
        "   If p-value > α, we fail to reject the null hypothesis (not statistically significant).\n",
        "\n",
        "9. Parametric tests assume:\n",
        "   - The data are normally distributed.\n",
        "   - The data have homogeneity of variance (equal variances).\n",
        "   - The data are measured at an interval or ratio scale.\n",
        "   - The samples are independent.\n",
        "\n",
        "10. The Shapiro-Wilk test is commonly used to test the normality of a dataset.\n"
      ],
      "metadata": {
        "id": "G30NKUNzRqqv"
      }
    },
    {
      "cell_type": "code",
      "source": [
        "import pandas as pd\n",
        "\n",
        "athletes = pd.read_csv(\"https://raw.githubusercontent.com/rfordatascience/tidytuesday/master/data/2021/2021-07-27/athlete_events.csv\")"
      ],
      "metadata": {
        "id": "jQ7K2TOMSDuJ"
      },
      "execution_count": null,
      "outputs": []
    },
    {
      "cell_type": "markdown",
      "source": [
        "a. State the hypotheses:\n",
        "\n",
        "   Null Hypothesis (H₀)- There is no significant difference in average height between male and female athletes.\n",
        "\n",
        "   Alternative Hypothesis (H₁)- There is a significant difference in average height between male and female athletes.\n",
        "\n",
        "b. Choose the statistical test\n",
        "\n",
        "   - Data type: Height is a numerical variable.\n",
        "   - Groups: We are comparing two independent groups (males vs. females).\n",
        "   - Number of Groups: Two (male vs. female).\n",
        "   - Assumptions: Normal distribution,  Equal variances\n",
        "   - Test for Normality: We need to check if the height data for both groups is normally distributed, as this influences whether we use a parametric or non-parametric test.(Shapiro-Wilk recommended): Due to the small sample size, normality testing could be unreliable.However, because height in human populations tends to be normally distributed, we assume normality for this educational analysis.In real-world research, we'd use scipy.stats.shapiro() to test this.\n",
        "   - Test for Equality of Variances: We need to check if the variances of the two groups are equal, as this determines whether we use a standard t-test or a Welch’s t-test. If p-value from Levene's test ≤ 0.05 → variances are unequal → use Welch’s t-test. If p > 0.05 → use standard two-sample t-test.\n",
        "\n",
        "c. Justification for test choice\n",
        "If:\n",
        "   - The height data for both groups is approximately normally distributed, and\n",
        "   - The variances of the two groups are equal, We use the Independent Samples t-test (parametric)."
      ],
      "metadata": {
        "id": "ZrNDcInxWTGp"
      }
    },
    {
      "cell_type": "code",
      "source": [
        "import pandas as pd\n",
        "from scipy import stats\n",
        "import seaborn as sns\n",
        "import matplotlib.pyplot as plt\n",
        "\n",
        "# Load the dataset (assuming it's already read into df)\n",
        "athletes = pd.read_csv(\"https://raw.githubusercontent.com/rfordatascience/tidytuesday/master/data/2021/2021-07-27/athlete_events.csv\")\n",
        "\n",
        "# Filter to only male and female athletes with valid (non-null) height\n",
        "athletes_gender_height = athletes[['Sex', 'Height']].dropna()\n",
        "athletes_gender_height = athletes_gender_height[athletes_gender_height['Sex'].isin(['M', 'F'])]\n",
        "\n",
        "# Create two separate groups\n",
        "male_heights = athletes_gender_height[athletes_gender_height['Sex'] == 'M']['Height']\n",
        "female_heights = athletes_gender_height[athletes_gender_height['Sex'] == 'F']['Height']\n"
      ],
      "metadata": {
        "id": "l11yCz-jbqrs"
      },
      "execution_count": null,
      "outputs": []
    },
    {
      "cell_type": "code",
      "source": [
        "# Normality test\n",
        "print(\"Shapiro-Wilk Test:\")\n",
        "print(\"Male:\", stats.shapiro(male_heights))\n",
        "print(\"Female:\", stats.shapiro(female_heights))\n"
      ],
      "metadata": {
        "colab": {
          "base_uri": "https://localhost:8080/"
        },
        "id": "N_BcbWGtcrT4",
        "outputId": "97d71957-6043-4747-924e-d1dddae195ea"
      },
      "execution_count": null,
      "outputs": [
        {
          "output_type": "stream",
          "name": "stdout",
          "text": [
            "Shapiro-Wilk Test:\n",
            "Male: ShapiroResult(statistic=np.float64(0.9971359336541346), pvalue=np.float64(1.7291477135912297e-40))\n",
            "Female: ShapiroResult(statistic=np.float64(0.9957406211413513), pvalue=np.float64(9.918041215477713e-38))\n"
          ]
        },
        {
          "output_type": "stream",
          "name": "stderr",
          "text": [
            "/usr/local/lib/python3.11/dist-packages/scipy/stats/_axis_nan_policy.py:586: UserWarning: scipy.stats.shapiro: For N > 5000, computed p-value may not be accurate. Current N is 143567.\n",
            "  res = hypotest_fun_out(*samples, **kwds)\n",
            "/usr/local/lib/python3.11/dist-packages/scipy/stats/_axis_nan_policy.py:586: UserWarning: scipy.stats.shapiro: For N > 5000, computed p-value may not be accurate. Current N is 67378.\n",
            "  res = hypotest_fun_out(*samples, **kwds)\n"
          ]
        }
      ]
    },
    {
      "cell_type": "code",
      "source": [
        "# Variance test\n",
        "levene_result = stats.levene(male_heights, female_heights)\n",
        "print(\"Levene's Test:\", levene_result)\n"
      ],
      "metadata": {
        "colab": {
          "base_uri": "https://localhost:8080/"
        },
        "id": "ClxNca7Qcx43",
        "outputId": "b92db48e-24dd-40b0-cbdb-5ecb50442076"
      },
      "execution_count": null,
      "outputs": [
        {
          "output_type": "stream",
          "name": "stdout",
          "text": [
            "Levene's Test: LeveneResult(statistic=np.float64(494.37845930272937), pvalue=np.float64(2.1243629849629428e-109))\n"
          ]
        }
      ]
    },
    {
      "cell_type": "code",
      "source": [
        "# Independent Samples T-Test\n",
        "t_stat, p_value = stats.ttest_ind(male_heights, female_heights, equal_var=True)  # or False based on Levene's result\n",
        "print(f\"T-statistic: {t_stat}\")\n",
        "print(f\"P-value: {p_value}\")\n"
      ],
      "metadata": {
        "colab": {
          "base_uri": "https://localhost:8080/"
        },
        "id": "oBohJ4vuc7Zl",
        "outputId": "089f0669-05c7-41da-93ec-1ba0fa3d791b"
      },
      "execution_count": null,
      "outputs": [
        {
          "output_type": "stream",
          "name": "stdout",
          "text": [
            "T-statistic: 257.0759194444727\n",
            "P-value: 0.0\n"
          ]
        }
      ]
    },
    {
      "cell_type": "markdown",
      "source": [
        "g. Conclusion & Interpretation\n",
        "Compare the p-value to α = 0.05:\n",
        "\n",
        "If p ≤ 0.05 → Reject H₀: There is a significant difference in height between male and female athletes."
      ],
      "metadata": {
        "id": "wNGkjRvodKtN"
      }
    },
    {
      "cell_type": "code",
      "source": [
        "# quick visualizing\n",
        "sns.boxplot(x='Sex', y='Height', data=athletes_gender_height)\n",
        "plt.title(\"Height Distribution by Gender\")\n",
        "plt.show()\n"
      ],
      "metadata": {
        "colab": {
          "base_uri": "https://localhost:8080/",
          "height": 472
        },
        "id": "nqt9oDGjdNMe",
        "outputId": "931969ab-c34c-40f3-fd1e-512ef0f6cead"
      },
      "execution_count": null,
      "outputs": [
        {
          "output_type": "display_data",
          "data": {
            "text/plain": [
              "<Figure size 640x480 with 1 Axes>"
            ],
            "image/png": "[encoded data removed]"
          },
          "metadata": {}
        }
      ]
    }
  ]
}